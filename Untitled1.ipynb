{
 "cells": [
  {
   "cell_type": "code",
   "execution_count": null,
   "id": "4b6fb3b0",
   "metadata": {},
   "outputs": [],
   "source": [
    "how to remove the shoe\n",
    "akjflafa\n",
    "fa\n",
    "fafs\n",
    "f\n",
    "a\n",
    "a\n"
   ]
  },
  {
   "cell_type": "code",
   "execution_count": null,
   "id": "45dc923f",
   "metadata": {},
   "outputs": [],
   "source": [
    "how to remove the socks ?\n",
    "ad\n",
    "as\n",
    "sa\n",
    "sa\n",
    "a\n",
    "as\n",
    "dsa\n",
    "d\n",
    "as"
   ]
  },
  {
   "cell_type": "raw",
   "id": "cce5511c",
   "metadata": {},
   "source": [
    "hot wearthe socks?\n",
    "c\n",
    "c\n",
    "s\n",
    "d\n",
    "asd\n",
    "asd\n",
    "a\n",
    "d\n",
    "a"
   ]
  }
 ],
 "metadata": {
  "kernelspec": {
   "display_name": "Python 3 (ipykernel)",
   "language": "python",
   "name": "python3"
  },
  "language_info": {
   "codemirror_mode": {
    "name": "ipython",
    "version": 3
   },
   "file_extension": ".py",
   "mimetype": "text/x-python",
   "name": "python",
   "nbconvert_exporter": "python",
   "pygments_lexer": "ipython3",
   "version": "3.9.7"
  }
 },
 "nbformat": 4,
 "nbformat_minor": 5
}
